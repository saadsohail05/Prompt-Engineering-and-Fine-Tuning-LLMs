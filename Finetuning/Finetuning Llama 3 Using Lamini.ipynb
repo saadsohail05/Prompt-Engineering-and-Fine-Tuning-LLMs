{
 "cells": [
  {
   "cell_type": "code",
   "execution_count": 1,
   "metadata": {},
   "outputs": [],
   "source": [
    "def get_data():\n",
    "    data = [\n",
    "        {\n",
    "            \"input\": \"What is a century in cricket?\",\n",
    "            \"output\": \"A century in cricket refers to a batsman scoring 100 or more runs in a single innings. It is considered a significant achievement in the game.\",\n",
    "        },\n",
    "        {\n",
    "            \"input\": \"What does LBW stand for in cricket?\",\n",
    "            \"output\": \"LBW stands for 'Leg Before Wicket'. It is a method of dismissal where the batsman is out if the ball hits their leg and would have gone on to hit the stumps.\",\n",
    "        },\n",
    "        {\n",
    "            \"input\": \"How many players are there in a cricket team?\",\n",
    "            \"output\": \"A cricket team consists of 11 players, including batsmen, bowlers, and an all-rounder or wicketkeeper.\",\n",
    "        },\n",
    "        {\n",
    "            \"input\": \"What is the role of a wicketkeeper in cricket?\",\n",
    "            \"output\": \"The wicketkeeper's role is to stand behind the stumps, catch balls that the batsman misses, and attempt stumpings or run-outs.\",\n",
    "        },\n",
    "        {\n",
    "            \"input\": \"What is the difference between a Test match and a One-Day match?\",\n",
    "            \"output\": \"A Test match is played over five days with unlimited overs per innings, while a One-Day match is limited to 50 overs per team and completed in a single day.\",\n",
    "        },\n",
    "        {\n",
    "            \"input\": \"What does a 'no-ball' mean in cricket?\",\n",
    "            \"output\": \"A 'no-ball' is an illegal delivery by the bowler, usually due to overstepping the crease or bowling above the batsman's waist height in a full toss.\",\n",
    "        },\n",
    "        {\n",
    "            \"input\": \"How is a batsman declared out in cricket?\",\n",
    "            \"output\": \"A batsman can be declared out in various ways, including being bowled, caught, LBW, run out, stumped, or hit-wicket.\",\n",
    "        },\n",
    "        {\n",
    "            \"input\": \"What is the Duckworth-Lewis method in cricket?\",\n",
    "            \"output\": \"The Duckworth-Lewis method is a mathematical formula used to calculate target scores in rain-affected limited-overs matches.\",\n",
    "        },\n",
    "        {\n",
    "            \"input\": \"What is a powerplay in cricket?\",\n",
    "            \"output\": \"A powerplay in cricket is a set of overs during which fielding restrictions are applied, allowing fewer fielders outside the 30-yard circle.\",\n",
    "        },\n",
    "        {\n",
    "            \"input\": \"What is the significance of the Ashes in cricket?\",\n",
    "            \"output\": \"The Ashes is a Test cricket series played between England and Australia. It is one of the sport's most historic and prestigious rivalries.\",\n",
    "        },\n",
    "    ]\n",
    "    return data\n"
   ]
  },
  {
   "cell_type": "code",
   "execution_count": null,
   "metadata": {},
   "outputs": [
    {
     "name": "stdout",
     "output_type": "stream",
     "text": [
      "Data pairs uploaded to local.\n",
      "\n",
      "Your dataset id is: ffd5cb501833060e71a45313385656b00580a916f61ae450dc457022b854ef74 . Consider using this in the future to train using the same data. \n",
      "Eg: llm.train(data_or_dataset_id='ffd5cb501833060e71a45313385656b00580a916f61ae450dc457022b854ef74')\n",
      "Tuning job submitted! Check status of job 14334 here: https://api.lamini.ai/train/14334\n"
     ]
    },
    {
     "data": {
      "text/plain": [
       "{'job_id': 14334,\n",
       " 'status': 'CREATED',\n",
       " 'dataset_id': 'ffd5cb501833060e71a45313385656b00580a916f61ae450dc457022b854ef74'}"
      ]
     },
     "execution_count": 13,
     "metadata": {},
     "output_type": "execute_result"
    }
   ],
   "source": [
    "import lamini\n",
    "from lamini import Lamini\n",
    "import os\n",
    "\n",
    "lamini.api_key=\"your_api_key\"\n",
    "\n",
    "llm=Lamini(model_name=\"meta-llama/Meta-Llama-3-8B-Instruct\")\n",
    "\n",
    "data=get_data()\n",
    "\n",
    "llm.tune(data_or_dataset_id=data,\n",
    "         finetune_args={'learning_rate':1.0e-4}\n",
    "          )"
   ]
  }
 ],
 "metadata": {
  "kernelspec": {
   "display_name": "translation-y1lWgE_7-py3.12",
   "language": "python",
   "name": "python3"
  },
  "language_info": {
   "codemirror_mode": {
    "name": "ipython",
    "version": 3
   },
   "file_extension": ".py",
   "mimetype": "text/x-python",
   "name": "python",
   "nbconvert_exporter": "python",
   "pygments_lexer": "ipython3",
   "version": "3.12.3"
  }
 },
 "nbformat": 4,
 "nbformat_minor": 2
}
